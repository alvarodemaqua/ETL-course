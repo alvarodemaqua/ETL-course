{
 "cells": [
  {
   "cell_type": "markdown",
   "source": [
    "*Ingestando y tratando ficheros XML*\n",
    "\n",
    "Vamos a unir la información de 3 XML y vamos a realizar procedimientos básicos"
   ],
   "metadata": {
    "collapsed": false
   }
  },
  {
   "cell_type": "markdown",
   "source": [
    "1 - Abrir los ficheros para saber qué columnas tienen los XML. Recuperar y unir los ficheros que empiezan con el prefijo \"03\""
   ],
   "metadata": {
    "collapsed": false
   }
  },
  {
   "cell_type": "code",
   "execution_count": 44,
   "outputs": [
    {
     "name": "stdout",
     "output_type": "stream",
     "text": [
      "simon 67.9 112.37\n",
      "jacob 66.78 120.67\n",
      "cindy 66.49 127.45\n",
      "ivan 67.62 114.14\n",
      "simon 67.9 112.37\n",
      "jacob 66.78 120.67\n",
      "cindy 66.49 127.45\n",
      "ivan 67.62 114.14\n",
      "simon 67.9 112.37\n",
      "jacob 66.78 120.67\n",
      "cindy 66.49 127.45\n",
      "ivan 67.62 114.14\n"
     ]
    },
    {
     "name": "stderr",
     "output_type": "stream",
     "text": [
      "C:\\Users\\adema\\AppData\\Local\\Temp\\ipykernel_34640\\3646780187.py:16: FutureWarning: The frame.append method is deprecated and will be removed from pandas in a future version. Use pandas.concat instead.\n",
      "  dataframe = dataframe.append({\"nombre\": nombre, \"altura\": altura, \"peso\": peso}, ignore_index=True)\n",
      "C:\\Users\\adema\\AppData\\Local\\Temp\\ipykernel_34640\\3646780187.py:16: FutureWarning: The frame.append method is deprecated and will be removed from pandas in a future version. Use pandas.concat instead.\n",
      "  dataframe = dataframe.append({\"nombre\": nombre, \"altura\": altura, \"peso\": peso}, ignore_index=True)\n",
      "C:\\Users\\adema\\AppData\\Local\\Temp\\ipykernel_34640\\3646780187.py:16: FutureWarning: The frame.append method is deprecated and will be removed from pandas in a future version. Use pandas.concat instead.\n",
      "  dataframe = dataframe.append({\"nombre\": nombre, \"altura\": altura, \"peso\": peso}, ignore_index=True)\n",
      "C:\\Users\\adema\\AppData\\Local\\Temp\\ipykernel_34640\\3646780187.py:16: FutureWarning: The frame.append method is deprecated and will be removed from pandas in a future version. Use pandas.concat instead.\n",
      "  dataframe = dataframe.append({\"nombre\": nombre, \"altura\": altura, \"peso\": peso}, ignore_index=True)\n",
      "C:\\Users\\adema\\AppData\\Local\\Temp\\ipykernel_34640\\3646780187.py:21: FutureWarning: The frame.append method is deprecated and will be removed from pandas in a future version. Use pandas.concat instead.\n",
      "  df = df.append(extraer_de_xml('assets/03-source1.xml'), ignore_index=True)\n",
      "C:\\Users\\adema\\AppData\\Local\\Temp\\ipykernel_34640\\3646780187.py:16: FutureWarning: The frame.append method is deprecated and will be removed from pandas in a future version. Use pandas.concat instead.\n",
      "  dataframe = dataframe.append({\"nombre\": nombre, \"altura\": altura, \"peso\": peso}, ignore_index=True)\n",
      "C:\\Users\\adema\\AppData\\Local\\Temp\\ipykernel_34640\\3646780187.py:16: FutureWarning: The frame.append method is deprecated and will be removed from pandas in a future version. Use pandas.concat instead.\n",
      "  dataframe = dataframe.append({\"nombre\": nombre, \"altura\": altura, \"peso\": peso}, ignore_index=True)\n",
      "C:\\Users\\adema\\AppData\\Local\\Temp\\ipykernel_34640\\3646780187.py:16: FutureWarning: The frame.append method is deprecated and will be removed from pandas in a future version. Use pandas.concat instead.\n",
      "  dataframe = dataframe.append({\"nombre\": nombre, \"altura\": altura, \"peso\": peso}, ignore_index=True)\n",
      "C:\\Users\\adema\\AppData\\Local\\Temp\\ipykernel_34640\\3646780187.py:16: FutureWarning: The frame.append method is deprecated and will be removed from pandas in a future version. Use pandas.concat instead.\n",
      "  dataframe = dataframe.append({\"nombre\": nombre, \"altura\": altura, \"peso\": peso}, ignore_index=True)\n",
      "C:\\Users\\adema\\AppData\\Local\\Temp\\ipykernel_34640\\3646780187.py:22: FutureWarning: The frame.append method is deprecated and will be removed from pandas in a future version. Use pandas.concat instead.\n",
      "  df = df.append(extraer_de_xml('assets/03-source2.xml'), ignore_index=True)\n",
      "C:\\Users\\adema\\AppData\\Local\\Temp\\ipykernel_34640\\3646780187.py:16: FutureWarning: The frame.append method is deprecated and will be removed from pandas in a future version. Use pandas.concat instead.\n",
      "  dataframe = dataframe.append({\"nombre\": nombre, \"altura\": altura, \"peso\": peso}, ignore_index=True)\n",
      "C:\\Users\\adema\\AppData\\Local\\Temp\\ipykernel_34640\\3646780187.py:16: FutureWarning: The frame.append method is deprecated and will be removed from pandas in a future version. Use pandas.concat instead.\n",
      "  dataframe = dataframe.append({\"nombre\": nombre, \"altura\": altura, \"peso\": peso}, ignore_index=True)\n",
      "C:\\Users\\adema\\AppData\\Local\\Temp\\ipykernel_34640\\3646780187.py:16: FutureWarning: The frame.append method is deprecated and will be removed from pandas in a future version. Use pandas.concat instead.\n",
      "  dataframe = dataframe.append({\"nombre\": nombre, \"altura\": altura, \"peso\": peso}, ignore_index=True)\n",
      "C:\\Users\\adema\\AppData\\Local\\Temp\\ipykernel_34640\\3646780187.py:16: FutureWarning: The frame.append method is deprecated and will be removed from pandas in a future version. Use pandas.concat instead.\n",
      "  dataframe = dataframe.append({\"nombre\": nombre, \"altura\": altura, \"peso\": peso}, ignore_index=True)\n",
      "C:\\Users\\adema\\AppData\\Local\\Temp\\ipykernel_34640\\3646780187.py:23: FutureWarning: The frame.append method is deprecated and will be removed from pandas in a future version. Use pandas.concat instead.\n",
      "  df = df.append(extraer_de_xml('assets/03-source3.xml'), ignore_index=True)\n"
     ]
    },
    {
     "data": {
      "text/plain": "         0 nombre  altura    peso\n0   nombre    NaN     NaN     NaN\n1   altura    NaN     NaN     NaN\n2     peso    NaN     NaN     NaN\n3   nombre    NaN     NaN     NaN\n4   altura    NaN     NaN     NaN\n5     peso    NaN     NaN     NaN\n6      NaN  simon   67.90  112.37\n7      NaN  jacob   66.78  120.67\n8      NaN  cindy   66.49  127.45\n9      NaN   ivan   67.62  114.14\n10  nombre    NaN     NaN     NaN\n11  altura    NaN     NaN     NaN\n12    peso    NaN     NaN     NaN\n13     NaN  simon   67.90  112.37\n14     NaN  jacob   66.78  120.67\n15     NaN  cindy   66.49  127.45\n16     NaN   ivan   67.62  114.14\n17  nombre    NaN     NaN     NaN\n18  altura    NaN     NaN     NaN\n19    peso    NaN     NaN     NaN\n20     NaN  simon   67.90  112.37\n21     NaN  jacob   66.78  120.67\n22     NaN  cindy   66.49  127.45\n23     NaN   ivan   67.62  114.14",
      "text/html": "<div>\n<style scoped>\n    .dataframe tbody tr th:only-of-type {\n        vertical-align: middle;\n    }\n\n    .dataframe tbody tr th {\n        vertical-align: top;\n    }\n\n    .dataframe thead th {\n        text-align: right;\n    }\n</style>\n<table border=\"1\" class=\"dataframe\">\n  <thead>\n    <tr style=\"text-align: right;\">\n      <th></th>\n      <th>0</th>\n      <th>nombre</th>\n      <th>altura</th>\n      <th>peso</th>\n    </tr>\n  </thead>\n  <tbody>\n    <tr>\n      <th>0</th>\n      <td>nombre</td>\n      <td>NaN</td>\n      <td>NaN</td>\n      <td>NaN</td>\n    </tr>\n    <tr>\n      <th>1</th>\n      <td>altura</td>\n      <td>NaN</td>\n      <td>NaN</td>\n      <td>NaN</td>\n    </tr>\n    <tr>\n      <th>2</th>\n      <td>peso</td>\n      <td>NaN</td>\n      <td>NaN</td>\n      <td>NaN</td>\n    </tr>\n    <tr>\n      <th>3</th>\n      <td>nombre</td>\n      <td>NaN</td>\n      <td>NaN</td>\n      <td>NaN</td>\n    </tr>\n    <tr>\n      <th>4</th>\n      <td>altura</td>\n      <td>NaN</td>\n      <td>NaN</td>\n      <td>NaN</td>\n    </tr>\n    <tr>\n      <th>5</th>\n      <td>peso</td>\n      <td>NaN</td>\n      <td>NaN</td>\n      <td>NaN</td>\n    </tr>\n    <tr>\n      <th>6</th>\n      <td>NaN</td>\n      <td>simon</td>\n      <td>67.90</td>\n      <td>112.37</td>\n    </tr>\n    <tr>\n      <th>7</th>\n      <td>NaN</td>\n      <td>jacob</td>\n      <td>66.78</td>\n      <td>120.67</td>\n    </tr>\n    <tr>\n      <th>8</th>\n      <td>NaN</td>\n      <td>cindy</td>\n      <td>66.49</td>\n      <td>127.45</td>\n    </tr>\n    <tr>\n      <th>9</th>\n      <td>NaN</td>\n      <td>ivan</td>\n      <td>67.62</td>\n      <td>114.14</td>\n    </tr>\n    <tr>\n      <th>10</th>\n      <td>nombre</td>\n      <td>NaN</td>\n      <td>NaN</td>\n      <td>NaN</td>\n    </tr>\n    <tr>\n      <th>11</th>\n      <td>altura</td>\n      <td>NaN</td>\n      <td>NaN</td>\n      <td>NaN</td>\n    </tr>\n    <tr>\n      <th>12</th>\n      <td>peso</td>\n      <td>NaN</td>\n      <td>NaN</td>\n      <td>NaN</td>\n    </tr>\n    <tr>\n      <th>13</th>\n      <td>NaN</td>\n      <td>simon</td>\n      <td>67.90</td>\n      <td>112.37</td>\n    </tr>\n    <tr>\n      <th>14</th>\n      <td>NaN</td>\n      <td>jacob</td>\n      <td>66.78</td>\n      <td>120.67</td>\n    </tr>\n    <tr>\n      <th>15</th>\n      <td>NaN</td>\n      <td>cindy</td>\n      <td>66.49</td>\n      <td>127.45</td>\n    </tr>\n    <tr>\n      <th>16</th>\n      <td>NaN</td>\n      <td>ivan</td>\n      <td>67.62</td>\n      <td>114.14</td>\n    </tr>\n    <tr>\n      <th>17</th>\n      <td>nombre</td>\n      <td>NaN</td>\n      <td>NaN</td>\n      <td>NaN</td>\n    </tr>\n    <tr>\n      <th>18</th>\n      <td>altura</td>\n      <td>NaN</td>\n      <td>NaN</td>\n      <td>NaN</td>\n    </tr>\n    <tr>\n      <th>19</th>\n      <td>peso</td>\n      <td>NaN</td>\n      <td>NaN</td>\n      <td>NaN</td>\n    </tr>\n    <tr>\n      <th>20</th>\n      <td>NaN</td>\n      <td>simon</td>\n      <td>67.90</td>\n      <td>112.37</td>\n    </tr>\n    <tr>\n      <th>21</th>\n      <td>NaN</td>\n      <td>jacob</td>\n      <td>66.78</td>\n      <td>120.67</td>\n    </tr>\n    <tr>\n      <th>22</th>\n      <td>NaN</td>\n      <td>cindy</td>\n      <td>66.49</td>\n      <td>127.45</td>\n    </tr>\n    <tr>\n      <th>23</th>\n      <td>NaN</td>\n      <td>ivan</td>\n      <td>67.62</td>\n      <td>114.14</td>\n    </tr>\n  </tbody>\n</table>\n</div>"
     },
     "execution_count": 44,
     "metadata": {},
     "output_type": "execute_result"
    }
   ],
   "source": [],
   "metadata": {
    "collapsed": false
   }
  },
  {
   "cell_type": "markdown",
   "source": [
    "2 - Limpiamos los datos para quedarnos con aquellos que no son nulos y columnas que no nos sirven:"
   ],
   "metadata": {
    "collapsed": false
   }
  },
  {
   "cell_type": "code",
   "execution_count": 45,
   "outputs": [
    {
     "data": {
      "text/plain": "   nombre  altura    peso\n6   simon   67.90  112.37\n7   jacob   66.78  120.67\n8   cindy   66.49  127.45\n9    ivan   67.62  114.14\n13  simon   67.90  112.37\n14  jacob   66.78  120.67\n15  cindy   66.49  127.45\n16   ivan   67.62  114.14\n20  simon   67.90  112.37\n21  jacob   66.78  120.67\n22  cindy   66.49  127.45\n23   ivan   67.62  114.14",
      "text/html": "<div>\n<style scoped>\n    .dataframe tbody tr th:only-of-type {\n        vertical-align: middle;\n    }\n\n    .dataframe tbody tr th {\n        vertical-align: top;\n    }\n\n    .dataframe thead th {\n        text-align: right;\n    }\n</style>\n<table border=\"1\" class=\"dataframe\">\n  <thead>\n    <tr style=\"text-align: right;\">\n      <th></th>\n      <th>nombre</th>\n      <th>altura</th>\n      <th>peso</th>\n    </tr>\n  </thead>\n  <tbody>\n    <tr>\n      <th>6</th>\n      <td>simon</td>\n      <td>67.90</td>\n      <td>112.37</td>\n    </tr>\n    <tr>\n      <th>7</th>\n      <td>jacob</td>\n      <td>66.78</td>\n      <td>120.67</td>\n    </tr>\n    <tr>\n      <th>8</th>\n      <td>cindy</td>\n      <td>66.49</td>\n      <td>127.45</td>\n    </tr>\n    <tr>\n      <th>9</th>\n      <td>ivan</td>\n      <td>67.62</td>\n      <td>114.14</td>\n    </tr>\n    <tr>\n      <th>13</th>\n      <td>simon</td>\n      <td>67.90</td>\n      <td>112.37</td>\n    </tr>\n    <tr>\n      <th>14</th>\n      <td>jacob</td>\n      <td>66.78</td>\n      <td>120.67</td>\n    </tr>\n    <tr>\n      <th>15</th>\n      <td>cindy</td>\n      <td>66.49</td>\n      <td>127.45</td>\n    </tr>\n    <tr>\n      <th>16</th>\n      <td>ivan</td>\n      <td>67.62</td>\n      <td>114.14</td>\n    </tr>\n    <tr>\n      <th>20</th>\n      <td>simon</td>\n      <td>67.90</td>\n      <td>112.37</td>\n    </tr>\n    <tr>\n      <th>21</th>\n      <td>jacob</td>\n      <td>66.78</td>\n      <td>120.67</td>\n    </tr>\n    <tr>\n      <th>22</th>\n      <td>cindy</td>\n      <td>66.49</td>\n      <td>127.45</td>\n    </tr>\n    <tr>\n      <th>23</th>\n      <td>ivan</td>\n      <td>67.62</td>\n      <td>114.14</td>\n    </tr>\n  </tbody>\n</table>\n</div>"
     },
     "execution_count": 45,
     "metadata": {},
     "output_type": "execute_result"
    }
   ],
   "source": [],
   "metadata": {
    "collapsed": false
   }
  },
  {
   "cell_type": "markdown",
   "source": [
    "3 - Las alturas y pesos están en pulgadas y libras. Convertidlos a Kg y mm\n",
    "        Una pulgada son 0.0254 metros\n",
    "        Una libra son 0.4539237 Kg\n",
    "    Redondead a dos decimales"
   ],
   "metadata": {
    "collapsed": false
   }
  },
  {
   "cell_type": "code",
   "execution_count": 46,
   "outputs": [
    {
     "data": {
      "text/plain": "   nombre    altura       peso\n6   simon  172.4660  51.007406\n7   jacob  169.6212  54.774973\n8   cindy  168.8846  57.852576\n9    ivan  171.7548  51.810851\n13  simon  172.4660  51.007406\n14  jacob  169.6212  54.774973\n15  cindy  168.8846  57.852576\n16   ivan  171.7548  51.810851\n20  simon  172.4660  51.007406\n21  jacob  169.6212  54.774973\n22  cindy  168.8846  57.852576\n23   ivan  171.7548  51.810851",
      "text/html": "<div>\n<style scoped>\n    .dataframe tbody tr th:only-of-type {\n        vertical-align: middle;\n    }\n\n    .dataframe tbody tr th {\n        vertical-align: top;\n    }\n\n    .dataframe thead th {\n        text-align: right;\n    }\n</style>\n<table border=\"1\" class=\"dataframe\">\n  <thead>\n    <tr style=\"text-align: right;\">\n      <th></th>\n      <th>nombre</th>\n      <th>altura</th>\n      <th>peso</th>\n    </tr>\n  </thead>\n  <tbody>\n    <tr>\n      <th>6</th>\n      <td>simon</td>\n      <td>172.4660</td>\n      <td>51.007406</td>\n    </tr>\n    <tr>\n      <th>7</th>\n      <td>jacob</td>\n      <td>169.6212</td>\n      <td>54.774973</td>\n    </tr>\n    <tr>\n      <th>8</th>\n      <td>cindy</td>\n      <td>168.8846</td>\n      <td>57.852576</td>\n    </tr>\n    <tr>\n      <th>9</th>\n      <td>ivan</td>\n      <td>171.7548</td>\n      <td>51.810851</td>\n    </tr>\n    <tr>\n      <th>13</th>\n      <td>simon</td>\n      <td>172.4660</td>\n      <td>51.007406</td>\n    </tr>\n    <tr>\n      <th>14</th>\n      <td>jacob</td>\n      <td>169.6212</td>\n      <td>54.774973</td>\n    </tr>\n    <tr>\n      <th>15</th>\n      <td>cindy</td>\n      <td>168.8846</td>\n      <td>57.852576</td>\n    </tr>\n    <tr>\n      <th>16</th>\n      <td>ivan</td>\n      <td>171.7548</td>\n      <td>51.810851</td>\n    </tr>\n    <tr>\n      <th>20</th>\n      <td>simon</td>\n      <td>172.4660</td>\n      <td>51.007406</td>\n    </tr>\n    <tr>\n      <th>21</th>\n      <td>jacob</td>\n      <td>169.6212</td>\n      <td>54.774973</td>\n    </tr>\n    <tr>\n      <th>22</th>\n      <td>cindy</td>\n      <td>168.8846</td>\n      <td>57.852576</td>\n    </tr>\n    <tr>\n      <th>23</th>\n      <td>ivan</td>\n      <td>171.7548</td>\n      <td>51.810851</td>\n    </tr>\n  </tbody>\n</table>\n</div>"
     },
     "execution_count": 46,
     "metadata": {},
     "output_type": "execute_result"
    }
   ],
   "source": [],
   "metadata": {
    "collapsed": false
   }
  },
  {
   "cell_type": "code",
   "execution_count": 43,
   "outputs": [],
   "source": [],
   "metadata": {
    "collapsed": false
   }
  }
 ],
 "metadata": {
  "kernelspec": {
   "display_name": "Python 3",
   "language": "python",
   "name": "python3"
  },
  "language_info": {
   "codemirror_mode": {
    "name": "ipython",
    "version": 2
   },
   "file_extension": ".py",
   "mimetype": "text/x-python",
   "name": "python",
   "nbconvert_exporter": "python",
   "pygments_lexer": "ipython2",
   "version": "2.7.6"
  }
 },
 "nbformat": 4,
 "nbformat_minor": 0
}
