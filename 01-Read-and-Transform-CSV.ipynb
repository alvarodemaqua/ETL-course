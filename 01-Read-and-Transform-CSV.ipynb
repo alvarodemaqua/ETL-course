{
 "cells": [
  {
   "cell_type": "markdown",
   "source": [
    "*Ingestando fichero CSV y realizando las primeras transformaciones*\n",
    "\n",
    "Vamos a realizar una ingesta de un fichero CSV. Para ello, en la carpeta assets, veremos un fichero 01-datos.csv"
   ],
   "metadata": {
    "collapsed": false
   }
  },
  {
   "cell_type": "markdown",
   "source": [
    "1 - Abriremos el csv y crearemos un dataframe con Pandas"
   ],
   "metadata": {
    "collapsed": false
   }
  },
  {
   "cell_type": "code",
   "execution_count": 3,
   "outputs": [
    {
     "data": {
      "text/plain": "          slug asset         name        date  ranknow      open      high  \\\n0  target-coin   TGT  Target Coin  29-09-2017      607  0.028961  0.054766   \n1  target-coin   TGT  Target Coin  30-09-2017      607  0.041783  0.046196   \n2  target-coin   TGT  Target Coin  01-10-2017      607  0.031761  0.035957   \n3  target-coin   TGT  Target Coin  02-10-2017      607  0.028375  0.054595   \n4  target-coin   TGT  Target Coin  03-10-2017      607  0.022527  0.032225   \n\n        low     close  volume  market  close_ratio  spread  \n0  0.028961  0.041777   69996     0.0       0.4966    0.03  \n1  0.031435  0.031744    5725     0.0       0.0209    0.01  \n2  0.021040  0.028385    5012     0.0       0.4924    0.01  \n3  0.020417  0.022525    8010     0.0       0.0617    0.03  \n4  0.020211  0.020359    1787     0.0       0.0123    0.01  ",
      "text/html": "<div>\n<style scoped>\n    .dataframe tbody tr th:only-of-type {\n        vertical-align: middle;\n    }\n\n    .dataframe tbody tr th {\n        vertical-align: top;\n    }\n\n    .dataframe thead th {\n        text-align: right;\n    }\n</style>\n<table border=\"1\" class=\"dataframe\">\n  <thead>\n    <tr style=\"text-align: right;\">\n      <th></th>\n      <th>slug</th>\n      <th>asset</th>\n      <th>name</th>\n      <th>date</th>\n      <th>ranknow</th>\n      <th>open</th>\n      <th>high</th>\n      <th>low</th>\n      <th>close</th>\n      <th>volume</th>\n      <th>market</th>\n      <th>close_ratio</th>\n      <th>spread</th>\n    </tr>\n  </thead>\n  <tbody>\n    <tr>\n      <th>0</th>\n      <td>target-coin</td>\n      <td>TGT</td>\n      <td>Target Coin</td>\n      <td>29-09-2017</td>\n      <td>607</td>\n      <td>0.028961</td>\n      <td>0.054766</td>\n      <td>0.028961</td>\n      <td>0.041777</td>\n      <td>69996</td>\n      <td>0.0</td>\n      <td>0.4966</td>\n      <td>0.03</td>\n    </tr>\n    <tr>\n      <th>1</th>\n      <td>target-coin</td>\n      <td>TGT</td>\n      <td>Target Coin</td>\n      <td>30-09-2017</td>\n      <td>607</td>\n      <td>0.041783</td>\n      <td>0.046196</td>\n      <td>0.031435</td>\n      <td>0.031744</td>\n      <td>5725</td>\n      <td>0.0</td>\n      <td>0.0209</td>\n      <td>0.01</td>\n    </tr>\n    <tr>\n      <th>2</th>\n      <td>target-coin</td>\n      <td>TGT</td>\n      <td>Target Coin</td>\n      <td>01-10-2017</td>\n      <td>607</td>\n      <td>0.031761</td>\n      <td>0.035957</td>\n      <td>0.021040</td>\n      <td>0.028385</td>\n      <td>5012</td>\n      <td>0.0</td>\n      <td>0.4924</td>\n      <td>0.01</td>\n    </tr>\n    <tr>\n      <th>3</th>\n      <td>target-coin</td>\n      <td>TGT</td>\n      <td>Target Coin</td>\n      <td>02-10-2017</td>\n      <td>607</td>\n      <td>0.028375</td>\n      <td>0.054595</td>\n      <td>0.020417</td>\n      <td>0.022525</td>\n      <td>8010</td>\n      <td>0.0</td>\n      <td>0.0617</td>\n      <td>0.03</td>\n    </tr>\n    <tr>\n      <th>4</th>\n      <td>target-coin</td>\n      <td>TGT</td>\n      <td>Target Coin</td>\n      <td>03-10-2017</td>\n      <td>607</td>\n      <td>0.022527</td>\n      <td>0.032225</td>\n      <td>0.020211</td>\n      <td>0.020359</td>\n      <td>1787</td>\n      <td>0.0</td>\n      <td>0.0123</td>\n      <td>0.01</td>\n    </tr>\n  </tbody>\n</table>\n</div>"
     },
     "execution_count": 3,
     "metadata": {},
     "output_type": "execute_result"
    }
   ],
   "source": [],
   "metadata": {
    "collapsed": false
   }
  },
  {
   "cell_type": "markdown",
   "source": [
    "2 - Comprobaremos qué datos tenemos en el csv"
   ],
   "metadata": {
    "collapsed": false
   }
  },
  {
   "cell_type": "code",
   "execution_count": 4,
   "outputs": [
    {
     "data": {
      "text/plain": "          slug asset         name        date  ranknow      open      high  \\\n0  target-coin   TGT  Target Coin  29-09-2017      607  0.028961  0.054766   \n1  target-coin   TGT  Target Coin  30-09-2017      607  0.041783  0.046196   \n2  target-coin   TGT  Target Coin  01-10-2017      607  0.031761  0.035957   \n3  target-coin   TGT  Target Coin  02-10-2017      607  0.028375  0.054595   \n4  target-coin   TGT  Target Coin  03-10-2017      607  0.022527  0.032225   \n\n        low     close  volume  market  close_ratio  spread  \n0  0.028961  0.041777   69996     0.0       0.4966    0.03  \n1  0.031435  0.031744    5725     0.0       0.0209    0.01  \n2  0.021040  0.028385    5012     0.0       0.4924    0.01  \n3  0.020417  0.022525    8010     0.0       0.0617    0.03  \n4  0.020211  0.020359    1787     0.0       0.0123    0.01  ",
      "text/html": "<div>\n<style scoped>\n    .dataframe tbody tr th:only-of-type {\n        vertical-align: middle;\n    }\n\n    .dataframe tbody tr th {\n        vertical-align: top;\n    }\n\n    .dataframe thead th {\n        text-align: right;\n    }\n</style>\n<table border=\"1\" class=\"dataframe\">\n  <thead>\n    <tr style=\"text-align: right;\">\n      <th></th>\n      <th>slug</th>\n      <th>asset</th>\n      <th>name</th>\n      <th>date</th>\n      <th>ranknow</th>\n      <th>open</th>\n      <th>high</th>\n      <th>low</th>\n      <th>close</th>\n      <th>volume</th>\n      <th>market</th>\n      <th>close_ratio</th>\n      <th>spread</th>\n    </tr>\n  </thead>\n  <tbody>\n    <tr>\n      <th>0</th>\n      <td>target-coin</td>\n      <td>TGT</td>\n      <td>Target Coin</td>\n      <td>29-09-2017</td>\n      <td>607</td>\n      <td>0.028961</td>\n      <td>0.054766</td>\n      <td>0.028961</td>\n      <td>0.041777</td>\n      <td>69996</td>\n      <td>0.0</td>\n      <td>0.4966</td>\n      <td>0.03</td>\n    </tr>\n    <tr>\n      <th>1</th>\n      <td>target-coin</td>\n      <td>TGT</td>\n      <td>Target Coin</td>\n      <td>30-09-2017</td>\n      <td>607</td>\n      <td>0.041783</td>\n      <td>0.046196</td>\n      <td>0.031435</td>\n      <td>0.031744</td>\n      <td>5725</td>\n      <td>0.0</td>\n      <td>0.0209</td>\n      <td>0.01</td>\n    </tr>\n    <tr>\n      <th>2</th>\n      <td>target-coin</td>\n      <td>TGT</td>\n      <td>Target Coin</td>\n      <td>01-10-2017</td>\n      <td>607</td>\n      <td>0.031761</td>\n      <td>0.035957</td>\n      <td>0.021040</td>\n      <td>0.028385</td>\n      <td>5012</td>\n      <td>0.0</td>\n      <td>0.4924</td>\n      <td>0.01</td>\n    </tr>\n    <tr>\n      <th>3</th>\n      <td>target-coin</td>\n      <td>TGT</td>\n      <td>Target Coin</td>\n      <td>02-10-2017</td>\n      <td>607</td>\n      <td>0.028375</td>\n      <td>0.054595</td>\n      <td>0.020417</td>\n      <td>0.022525</td>\n      <td>8010</td>\n      <td>0.0</td>\n      <td>0.0617</td>\n      <td>0.03</td>\n    </tr>\n    <tr>\n      <th>4</th>\n      <td>target-coin</td>\n      <td>TGT</td>\n      <td>Target Coin</td>\n      <td>03-10-2017</td>\n      <td>607</td>\n      <td>0.022527</td>\n      <td>0.032225</td>\n      <td>0.020211</td>\n      <td>0.020359</td>\n      <td>1787</td>\n      <td>0.0</td>\n      <td>0.0123</td>\n      <td>0.01</td>\n    </tr>\n  </tbody>\n</table>\n</div>"
     },
     "execution_count": 4,
     "metadata": {},
     "output_type": "execute_result"
    }
   ],
   "source": [],
   "metadata": {
    "collapsed": false
   }
  },
  {
   "cell_type": "markdown",
   "source": [
    "3 - Recuperaremos solo los datos de Bitcoin (BTC) y Ripple (XRP)"
   ],
   "metadata": {
    "collapsed": false
   }
  },
  {
   "cell_type": "code",
   "execution_count": 5,
   "outputs": [
    {
     "data": {
      "text/plain": "     asset     name        date        open        high         low  \\\n878    BTC  Bitcoin  28-04-2013  135.300000  135.980000  132.100000   \n879    BTC  Bitcoin  29-04-2013  134.440000  147.490000  134.000000   \n880    BTC  Bitcoin  30-04-2013  144.000000  146.930000  134.050000   \n881    BTC  Bitcoin  01-05-2013  139.000000  139.890000  107.720000   \n882    BTC  Bitcoin  02-05-2013  116.380000  125.600000   92.280000   \n...    ...      ...         ...         ...         ...         ...   \n1474   XRP   Ripple  15-01-2014    0.021182    0.022394    0.021122   \n1475   XRP   Ripple  16-01-2014    0.022205    0.022343    0.021024   \n1476   XRP   Ripple  17-01-2014    0.020990    0.021148    0.020098   \n1477   XRP   Ripple  18-01-2014    0.020559    0.021374    0.020559   \n1478   XRP   Ripple  19-01-2014    0.021314    0.021420    0.020333   \n\n           close  \n878   134.210000  \n879   144.540000  \n880   139.000000  \n881   116.990000  \n882   105.210000  \n...          ...  \n1474    0.022221  \n1475    0.021024  \n1476    0.020530  \n1477    0.021278  \n1478    0.020875  \n\n[387 rows x 7 columns]",
      "text/html": "<div>\n<style scoped>\n    .dataframe tbody tr th:only-of-type {\n        vertical-align: middle;\n    }\n\n    .dataframe tbody tr th {\n        vertical-align: top;\n    }\n\n    .dataframe thead th {\n        text-align: right;\n    }\n</style>\n<table border=\"1\" class=\"dataframe\">\n  <thead>\n    <tr style=\"text-align: right;\">\n      <th></th>\n      <th>asset</th>\n      <th>name</th>\n      <th>date</th>\n      <th>open</th>\n      <th>high</th>\n      <th>low</th>\n      <th>close</th>\n    </tr>\n  </thead>\n  <tbody>\n    <tr>\n      <th>878</th>\n      <td>BTC</td>\n      <td>Bitcoin</td>\n      <td>28-04-2013</td>\n      <td>135.300000</td>\n      <td>135.980000</td>\n      <td>132.100000</td>\n      <td>134.210000</td>\n    </tr>\n    <tr>\n      <th>879</th>\n      <td>BTC</td>\n      <td>Bitcoin</td>\n      <td>29-04-2013</td>\n      <td>134.440000</td>\n      <td>147.490000</td>\n      <td>134.000000</td>\n      <td>144.540000</td>\n    </tr>\n    <tr>\n      <th>880</th>\n      <td>BTC</td>\n      <td>Bitcoin</td>\n      <td>30-04-2013</td>\n      <td>144.000000</td>\n      <td>146.930000</td>\n      <td>134.050000</td>\n      <td>139.000000</td>\n    </tr>\n    <tr>\n      <th>881</th>\n      <td>BTC</td>\n      <td>Bitcoin</td>\n      <td>01-05-2013</td>\n      <td>139.000000</td>\n      <td>139.890000</td>\n      <td>107.720000</td>\n      <td>116.990000</td>\n    </tr>\n    <tr>\n      <th>882</th>\n      <td>BTC</td>\n      <td>Bitcoin</td>\n      <td>02-05-2013</td>\n      <td>116.380000</td>\n      <td>125.600000</td>\n      <td>92.280000</td>\n      <td>105.210000</td>\n    </tr>\n    <tr>\n      <th>...</th>\n      <td>...</td>\n      <td>...</td>\n      <td>...</td>\n      <td>...</td>\n      <td>...</td>\n      <td>...</td>\n      <td>...</td>\n    </tr>\n    <tr>\n      <th>1474</th>\n      <td>XRP</td>\n      <td>Ripple</td>\n      <td>15-01-2014</td>\n      <td>0.021182</td>\n      <td>0.022394</td>\n      <td>0.021122</td>\n      <td>0.022221</td>\n    </tr>\n    <tr>\n      <th>1475</th>\n      <td>XRP</td>\n      <td>Ripple</td>\n      <td>16-01-2014</td>\n      <td>0.022205</td>\n      <td>0.022343</td>\n      <td>0.021024</td>\n      <td>0.021024</td>\n    </tr>\n    <tr>\n      <th>1476</th>\n      <td>XRP</td>\n      <td>Ripple</td>\n      <td>17-01-2014</td>\n      <td>0.020990</td>\n      <td>0.021148</td>\n      <td>0.020098</td>\n      <td>0.020530</td>\n    </tr>\n    <tr>\n      <th>1477</th>\n      <td>XRP</td>\n      <td>Ripple</td>\n      <td>18-01-2014</td>\n      <td>0.020559</td>\n      <td>0.021374</td>\n      <td>0.020559</td>\n      <td>0.021278</td>\n    </tr>\n    <tr>\n      <th>1478</th>\n      <td>XRP</td>\n      <td>Ripple</td>\n      <td>19-01-2014</td>\n      <td>0.021314</td>\n      <td>0.021420</td>\n      <td>0.020333</td>\n      <td>0.020875</td>\n    </tr>\n  </tbody>\n</table>\n<p>387 rows × 7 columns</p>\n</div>"
     },
     "execution_count": 5,
     "metadata": {},
     "output_type": "execute_result"
    }
   ],
   "source": [],
   "metadata": {
    "collapsed": false
   }
  },
  {
   "cell_type": "markdown",
   "source": [
    "4 - Calcularemos la media de apertura, cierre, valor más elevado y valor más bajo\n",
    "OHLC Average = (Open + High + Low + Close) / 4"
   ],
   "metadata": {
    "collapsed": false
   }
  },
  {
   "cell_type": "code",
   "execution_count": 6,
   "outputs": [
    {
     "data": {
      "text/plain": "    asset     name        date    open    high     low   close  ohlc_average\n878   BTC  Bitcoin  28-04-2013  135.30  135.98  132.10  134.21      134.3975\n879   BTC  Bitcoin  29-04-2013  134.44  147.49  134.00  144.54      140.1175\n880   BTC  Bitcoin  30-04-2013  144.00  146.93  134.05  139.00      140.9950\n881   BTC  Bitcoin  01-05-2013  139.00  139.89  107.72  116.99      125.9000\n882   BTC  Bitcoin  02-05-2013  116.38  125.60   92.28  105.21      109.8675",
      "text/html": "<div>\n<style scoped>\n    .dataframe tbody tr th:only-of-type {\n        vertical-align: middle;\n    }\n\n    .dataframe tbody tr th {\n        vertical-align: top;\n    }\n\n    .dataframe thead th {\n        text-align: right;\n    }\n</style>\n<table border=\"1\" class=\"dataframe\">\n  <thead>\n    <tr style=\"text-align: right;\">\n      <th></th>\n      <th>asset</th>\n      <th>name</th>\n      <th>date</th>\n      <th>open</th>\n      <th>high</th>\n      <th>low</th>\n      <th>close</th>\n      <th>ohlc_average</th>\n    </tr>\n  </thead>\n  <tbody>\n    <tr>\n      <th>878</th>\n      <td>BTC</td>\n      <td>Bitcoin</td>\n      <td>28-04-2013</td>\n      <td>135.30</td>\n      <td>135.98</td>\n      <td>132.10</td>\n      <td>134.21</td>\n      <td>134.3975</td>\n    </tr>\n    <tr>\n      <th>879</th>\n      <td>BTC</td>\n      <td>Bitcoin</td>\n      <td>29-04-2013</td>\n      <td>134.44</td>\n      <td>147.49</td>\n      <td>134.00</td>\n      <td>144.54</td>\n      <td>140.1175</td>\n    </tr>\n    <tr>\n      <th>880</th>\n      <td>BTC</td>\n      <td>Bitcoin</td>\n      <td>30-04-2013</td>\n      <td>144.00</td>\n      <td>146.93</td>\n      <td>134.05</td>\n      <td>139.00</td>\n      <td>140.9950</td>\n    </tr>\n    <tr>\n      <th>881</th>\n      <td>BTC</td>\n      <td>Bitcoin</td>\n      <td>01-05-2013</td>\n      <td>139.00</td>\n      <td>139.89</td>\n      <td>107.72</td>\n      <td>116.99</td>\n      <td>125.9000</td>\n    </tr>\n    <tr>\n      <th>882</th>\n      <td>BTC</td>\n      <td>Bitcoin</td>\n      <td>02-05-2013</td>\n      <td>116.38</td>\n      <td>125.60</td>\n      <td>92.28</td>\n      <td>105.21</td>\n      <td>109.8675</td>\n    </tr>\n  </tbody>\n</table>\n</div>"
     },
     "execution_count": 6,
     "metadata": {},
     "output_type": "execute_result"
    }
   ],
   "source": [],
   "metadata": {
    "collapsed": false
   }
  },
  {
   "cell_type": "markdown",
   "source": [
    "5 - Jugar con los datos e ir probando funciones de pandas"
   ],
   "metadata": {
    "collapsed": false
   }
  },
  {
   "cell_type": "code",
   "execution_count": null,
   "outputs": [],
   "source": [],
   "metadata": {
    "collapsed": false
   }
  }
 ],
 "metadata": {
  "kernelspec": {
   "display_name": "Python 3",
   "language": "python",
   "name": "python3"
  },
  "language_info": {
   "codemirror_mode": {
    "name": "ipython",
    "version": 2
   },
   "file_extension": ".py",
   "mimetype": "text/x-python",
   "name": "python",
   "nbconvert_exporter": "python",
   "pygments_lexer": "ipython2",
   "version": "2.7.6"
  }
 },
 "nbformat": 4,
 "nbformat_minor": 0
}
